{
 "cells": [
  {
   "cell_type": "markdown",
   "metadata": {
    "collapsed": true,
    "pycharm": {
     "name": "#%% md\n"
    }
   },
   "source": [
    "### Assignment #2: Face recognition\n",
    " The program will process the images from a zip file provided in the\n",
    " `zip` folder that contains the pages of a newspaper, it will process\n",
    " the text in the image using `pytesseract` and will make a sheet\n",
    " with the faces that match certain string in that page"
   ]
  },
  {
   "cell_type": "code",
   "execution_count": 2,
   "outputs": [],
   "source": [
    "from zipfile import ZipFile\n",
    "from PIL import Image, ImageFont, ImageDraw\n",
    "import cv2 as cv\n",
    "import glob\n",
    "import pytesseract\n",
    "\n",
    "# Extract zip\n",
    "with ZipFile(\"zip/small_img.zip\", \"r\") as object_zip:\n",
    "    object_zip.extractall('temp')\n",
    "\n",
    "# Iterate through the images in the zip\n",
    "png_counter = len(glob.glob1('temp', \"*.png\"))\n",
    "\n",
    "# Face cascade\n",
    "face_cascade = cv.CascadeClassifier(\"patterns/haarcascade_frontalface_default.xml\")\n",
    "\n",
    "# Font\n",
    "font = ImageFont.truetype(\"fonts/fanwood-webfont.ttf\", 18)\n",
    "\n",
    "# Images\n",
    "images = []\n",
    "\n",
    "def get_results(user_input):\n",
    "    for i in range(png_counter):\n",
    "        file_path = \"temp/a-\"+str(i)+\".png\"\n",
    "        img = Image.open(file_path)\n",
    "        grey = cv.cvtColor(cv.imread(file_path), cv.COLOR_BGR2GRAY)\n",
    "        faces = face_cascade.detectMultiScale(grey, scaleFactor=1.2, minNeighbors=5)\n",
    "\n",
    "        # Append a tuple that contains\n",
    "        # Numpy arrays of original and grey image\n",
    "        # The text that was extracted from the article\n",
    "        # Faces detected\n",
    "\n",
    "        pil_image = Image.fromarray(grey, \"L\")\n",
    "        txt = pytesseract.image_to_string(pil_image)\n",
    "        images.append((img, grey, txt, faces, file_path))\n",
    "\n",
    "    for i, image in enumerate(images):\n",
    "        # If user input's matches with something in the text\n",
    "        if user_input in image[2]:\n",
    "            # Face detection if goes after detecting if a given text\n",
    "            # exists in the extracted text (i.e, \"Mark\")\n",
    "\n",
    "            n_faces = len(image[3])\n",
    "            rows = (n_faces // 5)+1\n",
    "\n",
    "            # Position in sheet\n",
    "            pos_x = 0\n",
    "            pos_y = 30\n",
    "            index = 0\n",
    "\n",
    "            # Initial values\n",
    "            size = 128\n",
    "\n",
    "            sheet = Image.new(image[0].mode, (5*128, (rows*128)+30))\n",
    "            canvas = ImageDraw.Draw(sheet)\n",
    "            canvas.rectangle([(sheet.width, 0), (0, 30)], fill=(255, 255, 255))\n",
    "            canvas.text((0, 0), \"Results found in file {}\".format(image[4]), font=font, fill=(0,0,0))\n",
    "\n",
    "            if n_faces == 0:\n",
    "                canvas.rectangle([(sheet.width, 30), (0, 60)], fill=(255, 255, 255))\n",
    "                canvas.text((0, 30), \"But there were no faces in that file!\", font=font, fill=(0,0,0))\n",
    "\n",
    "            for x, y, w, h in image[3]:\n",
    "                cropped = image[0].crop((x, y, x+w, y+h))\n",
    "                cropped.thumbnail((size, size), Image.ANTIALIAS)\n",
    "                sheet.paste(cropped, (pos_x, pos_y))\n",
    "\n",
    "                if index == 4:\n",
    "                    pos_y += size\n",
    "                    pos_x = 0\n",
    "                    index = 0\n",
    "                else:\n",
    "                    pos_x += size\n",
    "                    index += 1\n",
    "\n",
    "            save_path = 'images/A2/sheet-'+str(i)+'.png'\n",
    "            sheet.save(save_path)\n",
    "            sheet.show()\n",
    "\n",
    "str_match = input(\"Please enter a string to match with the image\")\n",
    "get_results(str_match)"
   ],
   "metadata": {
    "collapsed": false,
    "pycharm": {
     "name": "#%%\n"
    }
   }
  }
 ],
 "metadata": {
  "kernelspec": {
   "display_name": "Python 3",
   "language": "python",
   "name": "python3"
  },
  "language_info": {
   "codemirror_mode": {
    "name": "ipython",
    "version": 2
   },
   "file_extension": ".py",
   "mimetype": "text/x-python",
   "name": "python",
   "nbconvert_exporter": "python",
   "pygments_lexer": "ipython2",
   "version": "2.7.6"
  }
 },
 "nbformat": 4,
 "nbformat_minor": 0
}