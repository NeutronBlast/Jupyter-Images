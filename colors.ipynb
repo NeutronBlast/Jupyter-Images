{
 "cells": [
  {
   "cell_type": "markdown",
   "metadata": {
    "collapsed": true,
    "pycharm": {
     "name": "#%% md\n"
    }
   },
   "source": [
    "### Assignment 1: Contact Sheet\n",
    " The program will take one image and\n",
    " create **9** different variants based on the brightness of\n",
    " said image.\n",
    "\n",
    " The resulting image will be a \"sheet\" with 3 images per row,\n",
    " each row will have a different modified channel in the following way:\n",
    "\n",
    " 1. **Row 1**: Channel 0 (red) modified\n",
    " 2. **Row 2**: Channel 1 (green) modified\n",
    " 3. **Row 3**: Channel 2 (blue) modified\n",
    "\n",
    " Each column will have different intensity values in the following way:\n",
    " 1. **Column 1**: 0.1\n",
    " 2. **Column 2**: 0.5\n",
    " 3. **Column 3**: 0.9"
   ]
  },
  {
   "cell_type": "code",
   "execution_count": 1,
   "outputs": [],
   "source": [
    "from PIL import Image\n",
    "from PIL import ImageEnhance\n",
    "from PIL import ImageDraw\n",
    "from PIL import ImageFont\n",
    "\n",
    "img = Image.open(\"images/A1/king.jpg\")\n",
    "img = img.convert(\"RGB\")\n",
    "\n",
    "enhancer = ImageEnhance.Brightness(img)\n",
    "images = []\n",
    "\n",
    "for i in range (1,10):\n",
    "    images.append(enhancer.enhance(i/10))\n",
    "\n",
    "# New image\n",
    "first_image = images[0]\n",
    "sheet = Image.new(first_image.mode, (first_image.width*3, first_image.height*3))\n",
    "x = 0\n",
    "y = 0\n",
    "row = 1\n",
    "col = 0\n",
    "val = [0.1, 0.5, 0.9]\n",
    "\n",
    "# Font\n",
    "font = ImageFont.truetype(\"fonts/fanwood-webfont.ttf\", 50)\n",
    "\n",
    "for img in images:\n",
    "    # First row = Edit red channel\n",
    "    # Second row = Edit green channel\n",
    "    # Third row = Edit the blue channel\n",
    "    r, g, b = img.split()\n",
    "    if row == 1:\n",
    "        r = r.point(lambda i: val[col])\n",
    "    elif row == 2:\n",
    "        g = g.point(lambda i: val[col])\n",
    "    else:\n",
    "        b = b.point(lambda i: val[col])\n",
    "    result = Image.merge('RGB', (r,g,b))\n",
    "\n",
    "    # Draw rectangle with the text\n",
    "    canvas = ImageDraw.Draw(result)\n",
    "    canvas.rectangle([(first_image.width, first_image.height-60), (0, first_image.height)], fill=(0, 0, 0))\n",
    "    canvas.text((0, first_image.height-50), \"channel {} intensity {}\".format(row-1, val[col]), font=font)\n",
    "\n",
    "    sheet.paste(result, (x,y))\n",
    "    if x+first_image.width == sheet.width:\n",
    "        x=0\n",
    "        y=y+first_image.height\n",
    "        row+=1\n",
    "        col=0\n",
    "    else:\n",
    "        x = x+first_image.width\n",
    "        col+=1\n",
    "\n",
    "#sheet = sheet.resize(int(sheet.width/2), int(sheet.height/2))\n",
    "sheet.save(\"images/A1/sheet.jpg\")\n",
    "sheet.show()\n"
   ],
   "metadata": {
    "collapsed": false,
    "pycharm": {
     "name": "#%%\n"
    }
   }
  }
 ],
 "metadata": {
  "kernelspec": {
   "display_name": "Python 3",
   "language": "python",
   "name": "python3"
  },
  "language_info": {
   "codemirror_mode": {
    "name": "ipython",
    "version": 2
   },
   "file_extension": ".py",
   "mimetype": "text/x-python",
   "name": "python",
   "nbconvert_exporter": "python",
   "pygments_lexer": "ipython2",
   "version": "2.7.6"
  }
 },
 "nbformat": 4,
 "nbformat_minor": 0
}